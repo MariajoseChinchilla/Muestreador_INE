{
 "cells": [
  {
   "cell_type": "code",
   "execution_count": 1,
   "metadata": {},
   "outputs": [],
   "source": [
    "from ARIMA import ModeloARIMA\n",
    "m = ModeloARIMA(\"IPC.xlsx\")\n",
    "from statsmodels.tsa.arima.model import ARIMA\n",
    "import pandas as pd\n",
    "data = pd.read_excel(\"IPC.xlsx\")"
   ]
  },
  {
   "cell_type": "code",
   "execution_count": 2,
   "metadata": {},
   "outputs": [],
   "source": [
    "m.generar_latex(500)"
   ]
  },
  {
   "cell_type": "code",
   "execution_count": 3,
   "metadata": {},
   "outputs": [
    {
     "data": {
      "text/plain": [
       "{'Año': (0, 1, 0),\n",
       " 'República': (0, 2, 2),\n",
       " 'Región I': (1, 2, 1),\n",
       " 'Región II': (0, 1, 0),\n",
       " 'Región III': (1, 2, 2),\n",
       " 'Región IV': (3, 1, 2),\n",
       " 'Región V': (1, 1, 1),\n",
       " 'Región VI': (0, 2, 1),\n",
       " 'Región VII': (0, 2, 3),\n",
       " 'Región VIII': (2, 1, 0)}"
      ]
     },
     "execution_count": 3,
     "metadata": {},
     "output_type": "execute_result"
    }
   ],
   "source": [
    "m.hallar_parametros()"
   ]
  },
  {
   "cell_type": "code",
   "execution_count": null,
   "metadata": {},
   "outputs": [],
   "source": []
  }
 ],
 "metadata": {
  "kernelspec": {
   "display_name": "Python 3",
   "language": "python",
   "name": "python3"
  },
  "language_info": {
   "codemirror_mode": {
    "name": "ipython",
    "version": 3
   },
   "file_extension": ".py",
   "mimetype": "text/x-python",
   "name": "python",
   "nbconvert_exporter": "python",
   "pygments_lexer": "ipython3",
   "version": "3.11.2"
  }
 },
 "nbformat": 4,
 "nbformat_minor": 2
}
