{
 "cells": [
  {
   "cell_type": "code",
   "execution_count": 18,
   "metadata": {},
   "outputs": [],
   "source": [
    "import pandas as pd\n",
    "import numpy as np\n",
    "from scipy.stats import norm"
   ]
  },
  {
   "cell_type": "code",
   "execution_count": null,
   "metadata": {},
   "outputs": [],
   "source": [
    "def es_numerico(val):\n",
    "    try:\n",
    "        float(val)\n",
    "        return True\n",
    "    except ValueError:\n",
    "        return False"
   ]
  },
  {
   "cell_type": "markdown",
   "metadata": {},
   "source": [
    "### Ejercicios de Lohr"
   ]
  },
  {
   "cell_type": "markdown",
   "metadata": {},
   "source": [
    "#### Ejercicio 33"
   ]
  },
  {
   "cell_type": "code",
   "execution_count": 27,
   "metadata": {},
   "outputs": [],
   "source": [
    "df = pd.read_csv(\"Ejercicio 33 capitulo 2.csv\")\n",
    "df = df[df[\"pages\"].apply(es_numerico)]\n",
    "df.dropna(how=\"any\", inplace=True)\n",
    "df[\"pages\"] = df[\"pages\"].astype(\"int64\")\n",
    "df = df[[\"title\",\"price\", \"pages\", \"Back type\"]]"
   ]
  },
  {
   "cell_type": "code",
   "execution_count": 28,
   "metadata": {},
   "outputs": [
    {
     "data": {
      "text/html": [
       "<div>\n",
       "<style scoped>\n",
       "    .dataframe tbody tr th:only-of-type {\n",
       "        vertical-align: middle;\n",
       "    }\n",
       "\n",
       "    .dataframe tbody tr th {\n",
       "        vertical-align: top;\n",
       "    }\n",
       "\n",
       "    .dataframe thead th {\n",
       "        text-align: right;\n",
       "    }\n",
       "</style>\n",
       "<table border=\"1\" class=\"dataframe\">\n",
       "  <thead>\n",
       "    <tr style=\"text-align: right;\">\n",
       "      <th></th>\n",
       "      <th>title</th>\n",
       "      <th>price</th>\n",
       "      <th>pages</th>\n",
       "      <th>Back type</th>\n",
       "    </tr>\n",
       "  </thead>\n",
       "  <tbody>\n",
       "    <tr>\n",
       "      <th>325</th>\n",
       "      <td>R for Data Science: Import, Tidy, Transform, V...</td>\n",
       "      <td>42.49</td>\n",
       "      <td>518</td>\n",
       "      <td>Hardback</td>\n",
       "    </tr>\n",
       "    <tr>\n",
       "      <th>135</th>\n",
       "      <td>Business Analytics: Data Analysis &amp; Decision M...</td>\n",
       "      <td>93.15</td>\n",
       "      <td>984</td>\n",
       "      <td>Paperback</td>\n",
       "    </tr>\n",
       "    <tr>\n",
       "      <th>364</th>\n",
       "      <td>Data Analysis for Business, Economics, and Policy</td>\n",
       "      <td>67.98</td>\n",
       "      <td>738</td>\n",
       "      <td>Paperback</td>\n",
       "    </tr>\n",
       "    <tr>\n",
       "      <th>631</th>\n",
       "      <td>Python Programming Language</td>\n",
       "      <td>7.95</td>\n",
       "      <td>6</td>\n",
       "      <td>Paperback</td>\n",
       "    </tr>\n",
       "    <tr>\n",
       "      <th>317</th>\n",
       "      <td>Microsoft® Excel Data Analysis and Business Mo...</td>\n",
       "      <td>23.25</td>\n",
       "      <td>624</td>\n",
       "      <td>Paperback</td>\n",
       "    </tr>\n",
       "    <tr>\n",
       "      <th>348</th>\n",
       "      <td>Using Data to Focus Instructional Improvement</td>\n",
       "      <td>20.13</td>\n",
       "      <td>134</td>\n",
       "      <td>Paperback</td>\n",
       "    </tr>\n",
       "  </tbody>\n",
       "</table>\n",
       "</div>"
      ],
      "text/plain": [
       "                                                 title  price  pages  \\\n",
       "325  R for Data Science: Import, Tidy, Transform, V...  42.49    518   \n",
       "135  Business Analytics: Data Analysis & Decision M...  93.15    984   \n",
       "364  Data Analysis for Business, Economics, and Policy  67.98    738   \n",
       "631                        Python Programming Language   7.95      6   \n",
       "317  Microsoft® Excel Data Analysis and Business Mo...  23.25    624   \n",
       "348      Using Data to Focus Instructional Improvement  20.13    134   \n",
       "\n",
       "     Back type  \n",
       "325   Hardback  \n",
       "135  Paperback  \n",
       "364  Paperback  \n",
       "631  Paperback  \n",
       "317  Paperback  \n",
       "348  Paperback  "
      ]
     },
     "execution_count": 28,
     "metadata": {},
     "output_type": "execute_result"
    }
   ],
   "source": [
    "# Establecer semilla y sacar el SRS de tamaño 50\n",
    "muestra = df.sample(n=50,replace=False, random_state=1)\n",
    "muestra.head(6)"
   ]
  },
  {
   "cell_type": "code",
   "execution_count": 29,
   "metadata": {},
   "outputs": [],
   "source": [
    "def media_IC_z(confianza, columna, datos: pd.DataFrame):\n",
    "    z = norm.ppf(0.5 + confianza / 2)\n",
    "    media = datos[columna].mean()\n",
    "    desviacion = datos[columna].std()\n",
    "    n = len(datos)\n",
    "    error = z * desviacion / np.sqrt(n)\n",
    "    return (media - error, media +  error)"
   ]
  },
  {
   "cell_type": "code",
   "execution_count": 30,
   "metadata": {},
   "outputs": [
    {
     "data": {
      "text/plain": [
       "(33.670952139568676, 50.90704786043134)"
      ]
     },
     "execution_count": 30,
     "metadata": {},
     "output_type": "execute_result"
    }
   ],
   "source": [
    "media_IC_z(0.95, \"price\", muestra)"
   ]
  },
  {
   "cell_type": "code",
   "execution_count": 31,
   "metadata": {},
   "outputs": [
    {
     "data": {
      "text/plain": [
       "(368.682659972611, 529.2773400273891)"
      ]
     },
     "execution_count": 31,
     "metadata": {},
     "output_type": "execute_result"
    }
   ],
   "source": [
    "media_IC_z(0.95, \"pages\", muestra)"
   ]
  }
 ],
 "metadata": {
  "kernelspec": {
   "display_name": "Python 3",
   "language": "python",
   "name": "python3"
  },
  "language_info": {
   "codemirror_mode": {
    "name": "ipython",
    "version": 3
   },
   "file_extension": ".py",
   "mimetype": "text/x-python",
   "name": "python",
   "nbconvert_exporter": "python",
   "pygments_lexer": "ipython3",
   "version": "3.11.2"
  }
 },
 "nbformat": 4,
 "nbformat_minor": 2
}
