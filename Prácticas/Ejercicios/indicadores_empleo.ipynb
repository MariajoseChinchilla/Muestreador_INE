{
 "cells": [
  {
   "cell_type": "code",
   "execution_count": null,
   "metadata": {},
   "outputs": [],
   "source": [
    "import pandas as pd\n",
    "import sys\n",
    "sys.path.append(\"../../Muestreador\")\n",
    "from muestreador import MuestreoINE\n",
    "m = MuestreoINE()"
   ]
  },
  {
   "cell_type": "code",
   "execution_count": null,
   "metadata": {},
   "outputs": [],
   "source": [
    "personas = pd.read_spss(\"ENEI2022.sav\")\n",
    "hogares = pd.read_spss(\"ENEI2022hogares.sav\")\n",
    "hogares.head(3)"
   ]
  },
  {
   "cell_type": "code",
   "execution_count": null,
   "metadata": {},
   "outputs": [],
   "source": [
    "# Estimar el promedio de personas por hogar por dominio de estudio\n",
    "agrup_regiones = hogares.groupby(\"dominio\")\n",
    "media_personas_hogar = {region : 0 for region in hogares[\"dominio\"].unique().tolist()}\n",
    "for region in hogares[\"dominio\"].unique().tolist():\n",
    "    media_personas_hogar[region] = m.media_estratificado(\"factor\", \"P01B04\", hogares[hogares[\"dominio\"] == region])"
   ]
  },
  {
   "cell_type": "code",
   "execution_count": null,
   "metadata": {},
   "outputs": [],
   "source": [
    "media_personas_hogar"
   ]
  },
  {
   "cell_type": "code",
   "execution_count": null,
   "metadata": {},
   "outputs": [],
   "source": [
    "# Agregar columna de cantidad de personas por hogar con edad mayor o igual a 15 años\n",
    "pea_hogares = personas[personas[\"P03A03\"] >= 15].groupby([\"dominio\", \"hogar_num\"])[\"pea\"].sum().fillna(0).reset_index(name=\"PEA hogar\")\n",
    "personas = pd.merge(personas, pea_hogares, how=\"outer\", on=[\"dominio\", \"hogar_num\"], suffixes=[\"\",\"_x\"])\n",
    "personas[\"factor\"] = personas[\"factor\"].fillna(0)"
   ]
  },
  {
   "cell_type": "code",
   "execution_count": null,
   "metadata": {},
   "outputs": [],
   "source": [
    "# Estimar promedio de personas en edad de trabajar por dominio de estudio\n",
    "media_pea_hogar = {region : 0 for region in personas[\"dominio\"].unique().tolist()}\n",
    "for region in personas[\"dominio\"].unique().tolist():\n",
    "    media_pea_hogar[region] = m.media_estratificado(\"factor\", \"PEA hogar\", personas[personas[\"dominio\"] == region])"
   ]
  },
  {
   "cell_type": "code",
   "execution_count": 13,
   "metadata": {},
   "outputs": [
    {
     "data": {
      "text/plain": [
       "{'Urbano Metropolitano': 1.9390919533473672,\n",
       " 'Rural Nacional': 1.896876797873538,\n",
       " 'Resto Urbano': 2.05796369071623}"
      ]
     },
     "execution_count": 13,
     "metadata": {},
     "output_type": "execute_result"
    }
   ],
   "source": [
    "media_pea_hogar"
   ]
  },
  {
   "cell_type": "code",
   "execution_count": null,
   "metadata": {},
   "outputs": [],
   "source": [
    "# Estimar porcentaje de personas susceptibles a ser observadas\n",
    "r = {region : 0 for region in personas[\"dominio\"].unique().tolist()}\n",
    "for region in personas[\"dominio\"].unique().tolist():\n",
    "    r[region] = media_pea_hogar[region] / media_personas_hogar[region]"
   ]
  },
  {
   "cell_type": "code",
   "execution_count": 11,
   "metadata": {},
   "outputs": [
    {
     "data": {
      "text/plain": [
       "dominio\n",
       "Resto Urbano            1878665.0\n",
       "Rural Nacional          3871194.0\n",
       "Urbano Metropolitano    1416011.0\n",
       "Name: PET con peso, dtype: float64"
      ]
     },
     "execution_count": 11,
     "metadata": {},
     "output_type": "execute_result"
    }
   ],
   "source": [
    "# Estimar total personas de 15 años o más en PET\n",
    "personas[\"PET con peso\"] = personas[\"factor\"] * personas[\"PEA hogar\"]\n",
    "personas_unicos = personas.drop_duplicates(subset=\"hogar_num\", keep=\"first\")\n",
    "personas_unicos.groupby(\"dominio\")[\"PET con peso\"].sum()"
   ]
  },
  {
   "cell_type": "code",
   "execution_count": 12,
   "metadata": {},
   "outputs": [
    {
     "data": {
      "text/plain": [
       "dominio\n",
       "Resto Urbano            1934262.0\n",
       "Rural Nacional          4135996.0\n",
       "Urbano Metropolitano    1433558.0\n",
       "Name: PET con peso, dtype: float64"
      ]
     },
     "execution_count": 12,
     "metadata": {},
     "output_type": "execute_result"
    }
   ],
   "source": [
    "# Estimar total personas de 15 años o más en PET\n",
    "personas[\"PET con peso\"] = personas[\"factor\"] * personas[\"pea\"]\n",
    "personas.groupby(\"dominio\")[\"PET con peso\"].sum()"
   ]
  },
  {
   "cell_type": "code",
   "execution_count": null,
   "metadata": {},
   "outputs": [],
   "source": [
    "a.groupby(\"dominio\")[\"PEA hogar\"].sum()"
   ]
  },
  {
   "cell_type": "code",
   "execution_count": null,
   "metadata": {},
   "outputs": [],
   "source": [
    "personas.groupby([\"dominio\", \"hogar_num\"])[\"PEA hogar\"]"
   ]
  }
 ],
 "metadata": {
  "kernelspec": {
   "display_name": "Python 3",
   "language": "python",
   "name": "python3"
  },
  "language_info": {
   "codemirror_mode": {
    "name": "ipython",
    "version": 3
   },
   "file_extension": ".py",
   "mimetype": "text/x-python",
   "name": "python",
   "nbconvert_exporter": "python",
   "pygments_lexer": "ipython3",
   "version": "3.11.2"
  }
 },
 "nbformat": 4,
 "nbformat_minor": 2
}
