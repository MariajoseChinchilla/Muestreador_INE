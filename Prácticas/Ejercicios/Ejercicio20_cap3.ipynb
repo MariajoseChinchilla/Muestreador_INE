{
 "cells": [
  {
   "cell_type": "code",
   "execution_count": 1,
   "metadata": {},
   "outputs": [],
   "source": [
    "import pandas as pd\n",
    "import sys\n",
    "sys.path.append(\"../../Muestreador\")\n",
    "from muestreador import MuestreoINE\n",
    "m = MuestreoINE()"
   ]
  },
  {
   "cell_type": "code",
   "execution_count": 2,
   "metadata": {},
   "outputs": [
    {
     "data": {
      "text/html": [
       "<div>\n",
       "<style scoped>\n",
       "    .dataframe tbody tr th:only-of-type {\n",
       "        vertical-align: middle;\n",
       "    }\n",
       "\n",
       "    .dataframe tbody tr th {\n",
       "        vertical-align: top;\n",
       "    }\n",
       "\n",
       "    .dataframe thead th {\n",
       "        text-align: right;\n",
       "    }\n",
       "</style>\n",
       "<table border=\"1\" class=\"dataframe\">\n",
       "  <thead>\n",
       "    <tr style=\"text-align: right;\">\n",
       "      <th></th>\n",
       "      <th>countyname</th>\n",
       "      <th>countynum</th>\n",
       "      <th>sampsize</th>\n",
       "      <th>popsize</th>\n",
       "      <th>radon</th>\n",
       "    </tr>\n",
       "  </thead>\n",
       "  <tbody>\n",
       "    <tr>\n",
       "      <th>0</th>\n",
       "      <td>Aitkin</td>\n",
       "      <td>1</td>\n",
       "      <td>4</td>\n",
       "      <td>5400</td>\n",
       "      <td>1.0</td>\n",
       "    </tr>\n",
       "    <tr>\n",
       "      <th>1</th>\n",
       "      <td>Aitkin</td>\n",
       "      <td>1</td>\n",
       "      <td>4</td>\n",
       "      <td>5400</td>\n",
       "      <td>2.2</td>\n",
       "    </tr>\n",
       "    <tr>\n",
       "      <th>2</th>\n",
       "      <td>Aitkin</td>\n",
       "      <td>1</td>\n",
       "      <td>4</td>\n",
       "      <td>5400</td>\n",
       "      <td>2.2</td>\n",
       "    </tr>\n",
       "    <tr>\n",
       "      <th>3</th>\n",
       "      <td>Aitkin</td>\n",
       "      <td>1</td>\n",
       "      <td>4</td>\n",
       "      <td>5400</td>\n",
       "      <td>2.9</td>\n",
       "    </tr>\n",
       "    <tr>\n",
       "      <th>4</th>\n",
       "      <td>Anoka</td>\n",
       "      <td>2</td>\n",
       "      <td>57</td>\n",
       "      <td>71900</td>\n",
       "      <td>2.4</td>\n",
       "    </tr>\n",
       "    <tr>\n",
       "      <th>5</th>\n",
       "      <td>Anoka</td>\n",
       "      <td>2</td>\n",
       "      <td>57</td>\n",
       "      <td>71900</td>\n",
       "      <td>0.5</td>\n",
       "    </tr>\n",
       "  </tbody>\n",
       "</table>\n",
       "</div>"
      ],
      "text/plain": [
       "  countyname  countynum  sampsize  popsize  radon\n",
       "0     Aitkin          1         4     5400    1.0\n",
       "1     Aitkin          1         4     5400    2.2\n",
       "2     Aitkin          1         4     5400    2.2\n",
       "3     Aitkin          1         4     5400    2.9\n",
       "4      Anoka          2        57    71900    2.4\n",
       "5      Anoka          2        57    71900    0.5"
      ]
     },
     "execution_count": 2,
     "metadata": {},
     "output_type": "execute_result"
    }
   ],
   "source": [
    "df = pd.read_csv(\"../Datos/radon.csv\")\n",
    "df.head(6)"
   ]
  },
  {
   "cell_type": "code",
   "execution_count": 3,
   "metadata": {},
   "outputs": [
    {
     "data": {
      "text/html": [
       "<div>\n",
       "<style scoped>\n",
       "    .dataframe tbody tr th:only-of-type {\n",
       "        vertical-align: middle;\n",
       "    }\n",
       "\n",
       "    .dataframe tbody tr th {\n",
       "        vertical-align: top;\n",
       "    }\n",
       "\n",
       "    .dataframe thead th {\n",
       "        text-align: right;\n",
       "    }\n",
       "</style>\n",
       "<table border=\"1\" class=\"dataframe\">\n",
       "  <thead>\n",
       "    <tr style=\"text-align: right;\">\n",
       "      <th></th>\n",
       "      <th>countyname</th>\n",
       "      <th>countynum</th>\n",
       "      <th>sampsize</th>\n",
       "      <th>popsize</th>\n",
       "      <th>radon</th>\n",
       "      <th>sampleweight</th>\n",
       "    </tr>\n",
       "  </thead>\n",
       "  <tbody>\n",
       "    <tr>\n",
       "      <th>0</th>\n",
       "      <td>Aitkin</td>\n",
       "      <td>1</td>\n",
       "      <td>4</td>\n",
       "      <td>5400</td>\n",
       "      <td>1.0</td>\n",
       "      <td>0.000741</td>\n",
       "    </tr>\n",
       "    <tr>\n",
       "      <th>1</th>\n",
       "      <td>Aitkin</td>\n",
       "      <td>1</td>\n",
       "      <td>4</td>\n",
       "      <td>5400</td>\n",
       "      <td>2.2</td>\n",
       "      <td>0.000741</td>\n",
       "    </tr>\n",
       "    <tr>\n",
       "      <th>2</th>\n",
       "      <td>Aitkin</td>\n",
       "      <td>1</td>\n",
       "      <td>4</td>\n",
       "      <td>5400</td>\n",
       "      <td>2.2</td>\n",
       "      <td>0.000741</td>\n",
       "    </tr>\n",
       "    <tr>\n",
       "      <th>3</th>\n",
       "      <td>Aitkin</td>\n",
       "      <td>1</td>\n",
       "      <td>4</td>\n",
       "      <td>5400</td>\n",
       "      <td>2.9</td>\n",
       "      <td>0.000741</td>\n",
       "    </tr>\n",
       "    <tr>\n",
       "      <th>4</th>\n",
       "      <td>Anoka</td>\n",
       "      <td>2</td>\n",
       "      <td>57</td>\n",
       "      <td>71900</td>\n",
       "      <td>2.4</td>\n",
       "      <td>0.000793</td>\n",
       "    </tr>\n",
       "    <tr>\n",
       "      <th>...</th>\n",
       "      <td>...</td>\n",
       "      <td>...</td>\n",
       "      <td>...</td>\n",
       "      <td>...</td>\n",
       "      <td>...</td>\n",
       "      <td>...</td>\n",
       "    </tr>\n",
       "    <tr>\n",
       "      <th>998</th>\n",
       "      <td>Wright</td>\n",
       "      <td>86</td>\n",
       "      <td>14</td>\n",
       "      <td>21600</td>\n",
       "      <td>3.1</td>\n",
       "      <td>0.000648</td>\n",
       "    </tr>\n",
       "    <tr>\n",
       "      <th>999</th>\n",
       "      <td>Wright</td>\n",
       "      <td>86</td>\n",
       "      <td>14</td>\n",
       "      <td>21600</td>\n",
       "      <td>8.7</td>\n",
       "      <td>0.000648</td>\n",
       "    </tr>\n",
       "    <tr>\n",
       "      <th>1000</th>\n",
       "      <td>Yellow Medicine</td>\n",
       "      <td>87</td>\n",
       "      <td>3</td>\n",
       "      <td>4600</td>\n",
       "      <td>3.7</td>\n",
       "      <td>0.000652</td>\n",
       "    </tr>\n",
       "    <tr>\n",
       "      <th>1001</th>\n",
       "      <td>Yellow Medicine</td>\n",
       "      <td>87</td>\n",
       "      <td>3</td>\n",
       "      <td>4600</td>\n",
       "      <td>2.9</td>\n",
       "      <td>0.000652</td>\n",
       "    </tr>\n",
       "    <tr>\n",
       "      <th>1002</th>\n",
       "      <td>Yellow Medicine</td>\n",
       "      <td>87</td>\n",
       "      <td>3</td>\n",
       "      <td>4600</td>\n",
       "      <td>3.7</td>\n",
       "      <td>0.000652</td>\n",
       "    </tr>\n",
       "  </tbody>\n",
       "</table>\n",
       "<p>1003 rows × 6 columns</p>\n",
       "</div>"
      ],
      "text/plain": [
       "           countyname  countynum  sampsize  popsize  radon  sampleweight\n",
       "0              Aitkin          1         4     5400    1.0      0.000741\n",
       "1              Aitkin          1         4     5400    2.2      0.000741\n",
       "2              Aitkin          1         4     5400    2.2      0.000741\n",
       "3              Aitkin          1         4     5400    2.9      0.000741\n",
       "4               Anoka          2        57    71900    2.4      0.000793\n",
       "...               ...        ...       ...      ...    ...           ...\n",
       "998            Wright         86        14    21600    3.1      0.000648\n",
       "999            Wright         86        14    21600    8.7      0.000648\n",
       "1000  Yellow Medicine         87         3     4600    3.7      0.000652\n",
       "1001  Yellow Medicine         87         3     4600    2.9      0.000652\n",
       "1002  Yellow Medicine         87         3     4600    3.7      0.000652\n",
       "\n",
       "[1003 rows x 6 columns]"
      ]
     },
     "execution_count": 3,
     "metadata": {},
     "output_type": "execute_result"
    }
   ],
   "source": [
    "df[\"sampleweight\"] = df[\"sampsize\"] / df[\"popsize\"]\n",
    "df"
   ]
  },
  {
   "cell_type": "code",
   "execution_count": 4,
   "metadata": {},
   "outputs": [
    {
     "data": {
      "text/plain": [
       "3.6234473894170898"
      ]
     },
     "execution_count": 4,
     "metadata": {},
     "output_type": "execute_result"
    }
   ],
   "source": [
    "m.media_estratificado(\"sampleweight\", \"radon\", df)"
   ]
  },
  {
   "cell_type": "code",
   "execution_count": 5,
   "metadata": {},
   "outputs": [
    {
     "name": "stdout",
     "output_type": "stream",
     "text": [
      "[0.6224999999999999, 5.093953634085212, 2.3825, 4.856190476190476, 3.5558333333333323, 5.293333333333333, 16.002857142857145, 11.142500000000004, 2.442909090909091, 35.70966666666666, 4.173, 15.553000000000004, 7.301666666666665, 52.8712380952381, 2.635833333333333, 0.8450000000000001, 22.249166666666667, 3.5454545454545463, 12.309258312020454, 0.9300000000000005, 3.0236363636363617, 3.1736666666666666, 0.24500000000000013, 82.9617777777778, 104.56066666666663, 11.53700327588663, 8.055000000000001, 2.4170000000000003, 0.3424999999999998, 4.938409090909091, 47.00571428571428, 7.349166666666668, 14.946666666666673, 9.120000000000003, 2.0536111111111115, 11.044999999999996, 3.955555555555555, 8.847999999999997, 12.278666666666668, 34.402499999999996, 6.622333333333334, 0.0, 261.9144444444445, 11.678392857142853, 48.003974358974354, 4.263000000000001, 6.9733333333333345, 10.820555555555558, 35.18994505494504, 0.0, 23.339999999999993, 5.229999999999996, 14.08333333333333, 8.928015384615383, 17.216181818181816, 5.2625, 1.3016666666666663, 22.362499999999997, 14.646666666666667, 0.08000000000000006, 23.979610917537745, 54.103, 6.51, 20.70854545454545, 24.37333333333333, 9.368351648351648, 13.24861197669693, 40.09917582417582, 0.30999999999999994, 12.603333333333333, 9.551794871794872, 8.681, 6.125, 1.9424999999999997, 7.576666666666664, 52.96200000000001, 14.029523809523809, 2.052, 17.33333333333334, 15.747791836734692, 16.470000000000002, 0.0, 14.328333333333333, 13.553021978021976, 0.21333333333333349]\n"
     ]
    },
    {
     "data": {
      "text/plain": [
       "(-98345.21514272221, 98352.46203750104)"
      ]
     },
     "execution_count": 5,
     "metadata": {},
     "output_type": "execute_result"
    }
   ],
   "source": [
    "tamaño_estratos = df.groupby([\"countynum\"])[\"popsize\"].first().tolist()\n",
    "tamaño_muestras = df.groupby([\"countynum\"])[\"sampsize\"].first().tolist()\n",
    "m.media_IC_estratificado_z(0.95, tamaño_estratos, tamaño_muestras, \"sampleweight\", df, \"countynum\", \"radon\")"
   ]
  }
 ],
 "metadata": {
  "kernelspec": {
   "display_name": "Python 3",
   "language": "python",
   "name": "python3"
  },
  "language_info": {
   "codemirror_mode": {
    "name": "ipython",
    "version": 3
   },
   "file_extension": ".py",
   "mimetype": "text/x-python",
   "name": "python",
   "nbconvert_exporter": "python",
   "pygments_lexer": "ipython3",
   "version": "3.11.2"
  }
 },
 "nbformat": 4,
 "nbformat_minor": 2
}
