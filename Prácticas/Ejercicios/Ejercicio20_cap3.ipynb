{
 "cells": [
  {
   "cell_type": "code",
   "execution_count": 1,
   "metadata": {},
   "outputs": [],
   "source": [
    "import pandas as pd\n",
    "import sys\n",
    "sys.path.append(\"../../Muestreador\")\n",
    "from muestreador import MuestreoINE\n",
    "m = MuestreoINE()\n",
    "from collections import defaultdict"
   ]
  },
  {
   "cell_type": "code",
   "execution_count": 2,
   "metadata": {},
   "outputs": [
    {
     "data": {
      "text/html": [
       "<div>\n",
       "<style scoped>\n",
       "    .dataframe tbody tr th:only-of-type {\n",
       "        vertical-align: middle;\n",
       "    }\n",
       "\n",
       "    .dataframe tbody tr th {\n",
       "        vertical-align: top;\n",
       "    }\n",
       "\n",
       "    .dataframe thead th {\n",
       "        text-align: right;\n",
       "    }\n",
       "</style>\n",
       "<table border=\"1\" class=\"dataframe\">\n",
       "  <thead>\n",
       "    <tr style=\"text-align: right;\">\n",
       "      <th></th>\n",
       "      <th>countyname</th>\n",
       "      <th>countynum</th>\n",
       "      <th>sampsize</th>\n",
       "      <th>popsize</th>\n",
       "      <th>radon</th>\n",
       "    </tr>\n",
       "  </thead>\n",
       "  <tbody>\n",
       "    <tr>\n",
       "      <th>0</th>\n",
       "      <td>Aitkin</td>\n",
       "      <td>1</td>\n",
       "      <td>4</td>\n",
       "      <td>5400</td>\n",
       "      <td>1.0</td>\n",
       "    </tr>\n",
       "    <tr>\n",
       "      <th>1</th>\n",
       "      <td>Aitkin</td>\n",
       "      <td>1</td>\n",
       "      <td>4</td>\n",
       "      <td>5400</td>\n",
       "      <td>2.2</td>\n",
       "    </tr>\n",
       "    <tr>\n",
       "      <th>2</th>\n",
       "      <td>Aitkin</td>\n",
       "      <td>1</td>\n",
       "      <td>4</td>\n",
       "      <td>5400</td>\n",
       "      <td>2.2</td>\n",
       "    </tr>\n",
       "    <tr>\n",
       "      <th>3</th>\n",
       "      <td>Aitkin</td>\n",
       "      <td>1</td>\n",
       "      <td>4</td>\n",
       "      <td>5400</td>\n",
       "      <td>2.9</td>\n",
       "    </tr>\n",
       "    <tr>\n",
       "      <th>4</th>\n",
       "      <td>Anoka</td>\n",
       "      <td>2</td>\n",
       "      <td>57</td>\n",
       "      <td>71900</td>\n",
       "      <td>2.4</td>\n",
       "    </tr>\n",
       "    <tr>\n",
       "      <th>5</th>\n",
       "      <td>Anoka</td>\n",
       "      <td>2</td>\n",
       "      <td>57</td>\n",
       "      <td>71900</td>\n",
       "      <td>0.5</td>\n",
       "    </tr>\n",
       "  </tbody>\n",
       "</table>\n",
       "</div>"
      ],
      "text/plain": [
       "  countyname  countynum  sampsize  popsize  radon\n",
       "0     Aitkin          1         4     5400    1.0\n",
       "1     Aitkin          1         4     5400    2.2\n",
       "2     Aitkin          1         4     5400    2.2\n",
       "3     Aitkin          1         4     5400    2.9\n",
       "4      Anoka          2        57    71900    2.4\n",
       "5      Anoka          2        57    71900    0.5"
      ]
     },
     "execution_count": 2,
     "metadata": {},
     "output_type": "execute_result"
    }
   ],
   "source": [
    "df = pd.read_csv(\"../Datos/radon.csv\")\n",
    "df.head(6)"
   ]
  },
  {
   "cell_type": "code",
   "execution_count": 3,
   "metadata": {},
   "outputs": [
    {
     "data": {
      "text/html": [
       "<div>\n",
       "<style scoped>\n",
       "    .dataframe tbody tr th:only-of-type {\n",
       "        vertical-align: middle;\n",
       "    }\n",
       "\n",
       "    .dataframe tbody tr th {\n",
       "        vertical-align: top;\n",
       "    }\n",
       "\n",
       "    .dataframe thead th {\n",
       "        text-align: right;\n",
       "    }\n",
       "</style>\n",
       "<table border=\"1\" class=\"dataframe\">\n",
       "  <thead>\n",
       "    <tr style=\"text-align: right;\">\n",
       "      <th></th>\n",
       "      <th>countyname</th>\n",
       "      <th>countynum</th>\n",
       "      <th>sampsize</th>\n",
       "      <th>popsize</th>\n",
       "      <th>radon</th>\n",
       "      <th>sampleweight</th>\n",
       "    </tr>\n",
       "  </thead>\n",
       "  <tbody>\n",
       "    <tr>\n",
       "      <th>0</th>\n",
       "      <td>Aitkin</td>\n",
       "      <td>1</td>\n",
       "      <td>4</td>\n",
       "      <td>5400</td>\n",
       "      <td>1.0</td>\n",
       "      <td>0.000741</td>\n",
       "    </tr>\n",
       "    <tr>\n",
       "      <th>1</th>\n",
       "      <td>Aitkin</td>\n",
       "      <td>1</td>\n",
       "      <td>4</td>\n",
       "      <td>5400</td>\n",
       "      <td>2.2</td>\n",
       "      <td>0.000741</td>\n",
       "    </tr>\n",
       "    <tr>\n",
       "      <th>2</th>\n",
       "      <td>Aitkin</td>\n",
       "      <td>1</td>\n",
       "      <td>4</td>\n",
       "      <td>5400</td>\n",
       "      <td>2.2</td>\n",
       "      <td>0.000741</td>\n",
       "    </tr>\n",
       "    <tr>\n",
       "      <th>3</th>\n",
       "      <td>Aitkin</td>\n",
       "      <td>1</td>\n",
       "      <td>4</td>\n",
       "      <td>5400</td>\n",
       "      <td>2.9</td>\n",
       "      <td>0.000741</td>\n",
       "    </tr>\n",
       "    <tr>\n",
       "      <th>4</th>\n",
       "      <td>Anoka</td>\n",
       "      <td>2</td>\n",
       "      <td>57</td>\n",
       "      <td>71900</td>\n",
       "      <td>2.4</td>\n",
       "      <td>0.000793</td>\n",
       "    </tr>\n",
       "    <tr>\n",
       "      <th>...</th>\n",
       "      <td>...</td>\n",
       "      <td>...</td>\n",
       "      <td>...</td>\n",
       "      <td>...</td>\n",
       "      <td>...</td>\n",
       "      <td>...</td>\n",
       "    </tr>\n",
       "    <tr>\n",
       "      <th>998</th>\n",
       "      <td>Wright</td>\n",
       "      <td>86</td>\n",
       "      <td>14</td>\n",
       "      <td>21600</td>\n",
       "      <td>3.1</td>\n",
       "      <td>0.000648</td>\n",
       "    </tr>\n",
       "    <tr>\n",
       "      <th>999</th>\n",
       "      <td>Wright</td>\n",
       "      <td>86</td>\n",
       "      <td>14</td>\n",
       "      <td>21600</td>\n",
       "      <td>8.7</td>\n",
       "      <td>0.000648</td>\n",
       "    </tr>\n",
       "    <tr>\n",
       "      <th>1000</th>\n",
       "      <td>Yellow Medicine</td>\n",
       "      <td>87</td>\n",
       "      <td>3</td>\n",
       "      <td>4600</td>\n",
       "      <td>3.7</td>\n",
       "      <td>0.000652</td>\n",
       "    </tr>\n",
       "    <tr>\n",
       "      <th>1001</th>\n",
       "      <td>Yellow Medicine</td>\n",
       "      <td>87</td>\n",
       "      <td>3</td>\n",
       "      <td>4600</td>\n",
       "      <td>2.9</td>\n",
       "      <td>0.000652</td>\n",
       "    </tr>\n",
       "    <tr>\n",
       "      <th>1002</th>\n",
       "      <td>Yellow Medicine</td>\n",
       "      <td>87</td>\n",
       "      <td>3</td>\n",
       "      <td>4600</td>\n",
       "      <td>3.7</td>\n",
       "      <td>0.000652</td>\n",
       "    </tr>\n",
       "  </tbody>\n",
       "</table>\n",
       "<p>1003 rows × 6 columns</p>\n",
       "</div>"
      ],
      "text/plain": [
       "           countyname  countynum  sampsize  popsize  radon  sampleweight\n",
       "0              Aitkin          1         4     5400    1.0      0.000741\n",
       "1              Aitkin          1         4     5400    2.2      0.000741\n",
       "2              Aitkin          1         4     5400    2.2      0.000741\n",
       "3              Aitkin          1         4     5400    2.9      0.000741\n",
       "4               Anoka          2        57    71900    2.4      0.000793\n",
       "...               ...        ...       ...      ...    ...           ...\n",
       "998            Wright         86        14    21600    3.1      0.000648\n",
       "999            Wright         86        14    21600    8.7      0.000648\n",
       "1000  Yellow Medicine         87         3     4600    3.7      0.000652\n",
       "1001  Yellow Medicine         87         3     4600    2.9      0.000652\n",
       "1002  Yellow Medicine         87         3     4600    3.7      0.000652\n",
       "\n",
       "[1003 rows x 6 columns]"
      ]
     },
     "execution_count": 3,
     "metadata": {},
     "output_type": "execute_result"
    }
   ],
   "source": [
    "df[\"sampleweight\"] = df[\"sampsize\"] / df[\"popsize\"]\n",
    "df"
   ]
  },
  {
   "cell_type": "code",
   "execution_count": 4,
   "metadata": {},
   "outputs": [
    {
     "data": {
      "text/plain": [
       "3.6234473894170898"
      ]
     },
     "execution_count": 4,
     "metadata": {},
     "output_type": "execute_result"
    }
   ],
   "source": [
    "m.media_estratificado(\"sampleweight\", \"radon\", df)"
   ]
  },
  {
   "cell_type": "code",
   "execution_count": 5,
   "metadata": {},
   "outputs": [
    {
     "data": {
      "text/plain": [
       "(2.0629538112373424, 5.183940967596837)"
      ]
     },
     "execution_count": 5,
     "metadata": {},
     "output_type": "execute_result"
    }
   ],
   "source": [
    "tamaño_estratos = df.groupby([\"countynum\"])[\"popsize\"].first().tolist()\n",
    "tamaño_muestras = df.groupby([\"countynum\"])[\"sampsize\"].first().tolist()\n",
    "m.media_IC_estratificado_z(0.95, tamaño_estratos, tamaño_muestras, \"sampleweight\", df, \"countynum\", \"radon\")"
   ]
  },
  {
   "cell_type": "code",
   "execution_count": 6,
   "metadata": {},
   "outputs": [],
   "source": [
    "# Obtenemos las frecuencias totales de cada 'countyname' y aquellas con 'radon' >= 4\n",
    "frecuencias_estratos = df[\"countyname\"].value_counts()\n",
    "frecuencias_incidencia = df[df[\"radon\"] >= 4][\"countyname\"].value_counts()\n",
    "\n",
    "# Inicializamos los diccionarios con las frecuencias obtenidas\n",
    "estratos_con_frecuencia = frecuencias_incidencia.to_dict(defaultdict(int))\n",
    "ocurrencia_estratos = frecuencias_estratos.to_dict()\n",
    "\n",
    "# Calculamos las proporciones directamente usando comprensión de diccionarios\n",
    "proporciones_dic = {estrato: estratos_con_frecuencia.get(estrato, 0) / ocurrencia_estratos[estrato] \n",
    "               for estrato in ocurrencia_estratos.keys()}\n"
   ]
  },
  {
   "cell_type": "code",
   "execution_count": 7,
   "metadata": {},
   "outputs": [
    {
     "data": {
      "text/plain": [
       "(0.5939202189556942, 0.627814557868448)"
      ]
     },
     "execution_count": 7,
     "metadata": {},
     "output_type": "execute_result"
    }
   ],
   "source": [
    "proporciones = list(proporciones_dic.values())\n",
    "m.proporcion_IC_estratificado(0.95, tamaño_estratos, tamaño_muestras, proporciones)"
   ]
  }
 ],
 "metadata": {
  "kernelspec": {
   "display_name": "Python 3",
   "language": "python",
   "name": "python3"
  },
  "language_info": {
   "codemirror_mode": {
    "name": "ipython",
    "version": 3
   },
   "file_extension": ".py",
   "mimetype": "text/x-python",
   "name": "python",
   "nbconvert_exporter": "python",
   "pygments_lexer": "ipython3",
   "version": "3.11.2"
  }
 },
 "nbformat": 4,
 "nbformat_minor": 2
}
